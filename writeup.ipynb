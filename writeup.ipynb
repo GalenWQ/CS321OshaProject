{
 "cells": [
  {
   "cell_type": "markdown",
   "metadata": {},
   "source": [
    "# HW #3: HeatMiser Meet OSHA\n",
    "\n",
    "```\n",
    "Galen Berger-Fletcher, Dustin Michels\n",
    "21 Feb 2017\n",
    "CS.321 AI\n",
    "```"
   ]
  },
  {
   "cell_type": "markdown",
   "metadata": {},
   "source": [
    "## Introduction"
   ]
  },
  {
   "cell_type": "markdown",
   "metadata": {},
   "source": [
    "## Part I: Decision Tree"
   ]
  },
  {
   "cell_type": "markdown",
   "metadata": {},
   "source": [
    "We implemented a decision tree from scratch in pure python, as well as using scikit learn."
   ]
  },
  {
   "cell_type": "markdown",
   "metadata": {},
   "source": [
    "## Part II: K-Means Clustering"
   ]
  },
  {
   "cell_type": "markdown",
   "metadata": {},
   "source": [
    "## Part III: Evaluation"
   ]
  },
  {
   "cell_type": "markdown",
   "metadata": {},
   "source": [
    "Based on the results of Part 1 and Part 2, provide an analysis of the compliance picture of the HeatMiser robots. Does a clear picture emerge as to what is going on? What about outliers? Were there patterns in the misclassifications? Is one approach better than another for getting a handle on the data?  What changes can be considered in rerunning the algorithms? "
   ]
  },
  {
   "cell_type": "markdown",
   "metadata": {},
   "source": [
    "In addition to the plots and visualizations described above, rely on at least two additional visualizations (one for supervised, one for unsupervised (best decision tree, tightest cluster, confusion matrices, perhaps) to make your arguments. Comment also on the generalizability of your approach to evaluating the remaining 1000 Heat Misers not represented in the data."
   ]
  },
  {
   "cell_type": "markdown",
   "metadata": {},
   "source": [
    "-[x] determining k with an elbow implementation."
   ]
  },
  {
   "cell_type": "code",
   "execution_count": null,
   "metadata": {},
   "outputs": [],
   "source": []
  }
 ],
 "metadata": {
  "kernelspec": {
   "display_name": "Python 3",
   "language": "python",
   "name": "python3"
  },
  "language_info": {
   "codemirror_mode": {
    "name": "ipython",
    "version": 3
   },
   "file_extension": ".py",
   "mimetype": "text/x-python",
   "name": "python",
   "nbconvert_exporter": "python",
   "pygments_lexer": "ipython3",
   "version": "3.6.4"
  }
 },
 "nbformat": 4,
 "nbformat_minor": 2
}
