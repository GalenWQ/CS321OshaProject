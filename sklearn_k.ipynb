{
 "cells": [
  {
   "cell_type": "code",
   "execution_count": 3,
   "metadata": {},
   "outputs": [],
   "source": [
    "import pandas as pd\n",
    "import numpy as np"
   ]
  },
  {
   "cell_type": "markdown",
   "metadata": {},
   "source": [
    "## Data Prep"
   ]
  },
  {
   "cell_type": "code",
   "execution_count": 5,
   "metadata": {},
   "outputs": [
    {
     "data": {
      "text/html": [
       "<div>\n",
       "<style scoped>\n",
       "    .dataframe tbody tr th:only-of-type {\n",
       "        vertical-align: middle;\n",
       "    }\n",
       "\n",
       "    .dataframe tbody tr th {\n",
       "        vertical-align: top;\n",
       "    }\n",
       "\n",
       "    .dataframe thead th {\n",
       "        text-align: right;\n",
       "    }\n",
       "</style>\n",
       "<table border=\"1\" class=\"dataframe\">\n",
       "  <thead>\n",
       "    <tr style=\"text-align: right;\">\n",
       "      <th></th>\n",
       "      <th>heatmiser_id</th>\n",
       "      <th>distance_feature</th>\n",
       "      <th>speeding_feature</th>\n",
       "      <th>osha</th>\n",
       "      <th>loc_Office</th>\n",
       "      <th>loc_Warehouse</th>\n",
       "    </tr>\n",
       "  </thead>\n",
       "  <tbody>\n",
       "    <tr>\n",
       "      <th>0</th>\n",
       "      <td>2018_01</td>\n",
       "      <td>53.76</td>\n",
       "      <td>9</td>\n",
       "      <td>Safe</td>\n",
       "      <td>1</td>\n",
       "      <td>0</td>\n",
       "    </tr>\n",
       "    <tr>\n",
       "      <th>1</th>\n",
       "      <td>2018_02</td>\n",
       "      <td>51.86</td>\n",
       "      <td>4</td>\n",
       "      <td>Safe</td>\n",
       "      <td>1</td>\n",
       "      <td>0</td>\n",
       "    </tr>\n",
       "    <tr>\n",
       "      <th>2</th>\n",
       "      <td>2018_03</td>\n",
       "      <td>51.59</td>\n",
       "      <td>4</td>\n",
       "      <td>Safe</td>\n",
       "      <td>1</td>\n",
       "      <td>0</td>\n",
       "    </tr>\n",
       "    <tr>\n",
       "      <th>3</th>\n",
       "      <td>2018_04</td>\n",
       "      <td>168.90</td>\n",
       "      <td>5</td>\n",
       "      <td>Safe</td>\n",
       "      <td>0</td>\n",
       "      <td>1</td>\n",
       "    </tr>\n",
       "    <tr>\n",
       "      <th>4</th>\n",
       "      <td>2018_05</td>\n",
       "      <td>53.50</td>\n",
       "      <td>5</td>\n",
       "      <td>Safe</td>\n",
       "      <td>1</td>\n",
       "      <td>0</td>\n",
       "    </tr>\n",
       "  </tbody>\n",
       "</table>\n",
       "</div>"
      ],
      "text/plain": [
       "  heatmiser_id  distance_feature  speeding_feature  osha  loc_Office  \\\n",
       "0      2018_01             53.76                 9  Safe           1   \n",
       "1      2018_02             51.86                 4  Safe           1   \n",
       "2      2018_03             51.59                 4  Safe           1   \n",
       "3      2018_04            168.90                 5  Safe           0   \n",
       "4      2018_05             53.50                 5  Safe           1   \n",
       "\n",
       "   loc_Warehouse  \n",
       "0              0  \n",
       "1              0  \n",
       "2              0  \n",
       "3              1  \n",
       "4              0  "
      ]
     },
     "execution_count": 5,
     "metadata": {},
     "output_type": "execute_result"
    }
   ],
   "source": [
    "# Load data from file\n",
    "df = pd.read_csv('HW3_Data.txt', delimiter='\\t')\n",
    "\n",
    "# Clean up column names, make heatmiser_id into index\n",
    "df.columns = [x.lower().replace(' ', '_') for x in df.columns]\n",
    "# df = df.set_index('heatmiser_id')\n",
    "\n",
    "# Fix duo-naming of 'NonCompliant' / 'Non-Compliant'\n",
    "df['osha'] = df['osha'].str.replace('-', '')\n",
    "\n",
    "# Convert 'location_type' into OneHot encoding\n",
    "df = pd.get_dummies(df, prefix='loc', columns=['location_type'])\n",
    "\n",
    "df.head()"
   ]
  },
  {
   "cell_type": "code",
   "execution_count": null,
   "metadata": {},
   "outputs": [],
   "source": []
  }
 ],
 "metadata": {
  "kernelspec": {
   "display_name": "Python 3",
   "language": "python",
   "name": "python3"
  },
  "language_info": {
   "codemirror_mode": {
    "name": "ipython",
    "version": 3
   },
   "file_extension": ".py",
   "mimetype": "text/x-python",
   "name": "python",
   "nbconvert_exporter": "python",
   "pygments_lexer": "ipython3",
   "version": "3.6.4"
  }
 },
 "nbformat": 4,
 "nbformat_minor": 2
}
