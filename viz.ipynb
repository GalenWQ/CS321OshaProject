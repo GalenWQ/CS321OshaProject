{
 "cells": [
  {
   "cell_type": "markdown",
   "metadata": {},
   "source": [
    "# OSHA Compliance"
   ]
  },
  {
   "cell_type": "code",
   "execution_count": 1,
   "metadata": {},
   "outputs": [],
   "source": [
    "import pandas as pd\n",
    "import random"
   ]
  },
  {
   "cell_type": "code",
   "execution_count": 2,
   "metadata": {
    "scrolled": true
   },
   "outputs": [
    {
     "data": {
      "text/html": [
       "<div>\n",
       "<style scoped>\n",
       "    .dataframe tbody tr th:only-of-type {\n",
       "        vertical-align: middle;\n",
       "    }\n",
       "\n",
       "    .dataframe tbody tr th {\n",
       "        vertical-align: top;\n",
       "    }\n",
       "\n",
       "    .dataframe thead th {\n",
       "        text-align: right;\n",
       "    }\n",
       "</style>\n",
       "<table border=\"1\" class=\"dataframe\">\n",
       "  <thead>\n",
       "    <tr style=\"text-align: right;\">\n",
       "      <th></th>\n",
       "      <th>HeatMiser_ID</th>\n",
       "      <th>Distance_Feature</th>\n",
       "      <th>Speeding_Feature</th>\n",
       "      <th>Location Type</th>\n",
       "      <th>OSHA</th>\n",
       "    </tr>\n",
       "  </thead>\n",
       "  <tbody>\n",
       "    <tr>\n",
       "      <th>0</th>\n",
       "      <td>2018_01</td>\n",
       "      <td>53.76</td>\n",
       "      <td>9</td>\n",
       "      <td>Office</td>\n",
       "      <td>Safe</td>\n",
       "    </tr>\n",
       "    <tr>\n",
       "      <th>1</th>\n",
       "      <td>2018_02</td>\n",
       "      <td>51.86</td>\n",
       "      <td>4</td>\n",
       "      <td>Office</td>\n",
       "      <td>Safe</td>\n",
       "    </tr>\n",
       "    <tr>\n",
       "      <th>2</th>\n",
       "      <td>2018_03</td>\n",
       "      <td>51.59</td>\n",
       "      <td>4</td>\n",
       "      <td>Office</td>\n",
       "      <td>Safe</td>\n",
       "    </tr>\n",
       "    <tr>\n",
       "      <th>3</th>\n",
       "      <td>2018_04</td>\n",
       "      <td>168.90</td>\n",
       "      <td>5</td>\n",
       "      <td>Warehouse</td>\n",
       "      <td>Safe</td>\n",
       "    </tr>\n",
       "    <tr>\n",
       "      <th>4</th>\n",
       "      <td>2018_05</td>\n",
       "      <td>53.50</td>\n",
       "      <td>5</td>\n",
       "      <td>Office</td>\n",
       "      <td>Safe</td>\n",
       "    </tr>\n",
       "  </tbody>\n",
       "</table>\n",
       "</div>"
      ],
      "text/plain": [
       "  HeatMiser_ID  Distance_Feature  Speeding_Feature Location Type  OSHA\n",
       "0      2018_01             53.76                 9        Office  Safe\n",
       "1      2018_02             51.86                 4        Office  Safe\n",
       "2      2018_03             51.59                 4        Office  Safe\n",
       "3      2018_04            168.90                 5     Warehouse  Safe\n",
       "4      2018_05             53.50                 5        Office  Safe"
      ]
     },
     "execution_count": 2,
     "metadata": {},
     "output_type": "execute_result"
    }
   ],
   "source": [
    "df = pd.read_csv('HW3_Data.txt', delimiter='\\t')\n",
    "df.head()"
   ]
  },
  {
   "cell_type": "markdown",
   "metadata": {},
   "source": [
    "## Decision Tree"
   ]
  },
  {
   "cell_type": "markdown",
   "metadata": {},
   "source": [
    "- Implement a Decision Tree to predict the OSHA compliance status based on distance, speed and location features\n",
    "- Select an appropriate bin for distance and speed\n",
    "- Run the data at 10-fold cross-validation.\n",
    "- Output the precision, recall and F1 of each individual class and all classes combined. Output these numbers for each fold as well as the average across all 10 folds\n",
    "- Your code should also output a plot of the performance for each fold over the majority class baseline."
   ]
  },
  {
   "cell_type": "code",
   "execution_count": 13,
   "metadata": {},
   "outputs": [],
   "source": [
    "from osha import (\n",
    "    read_data, bin_data, split_fold,\n",
    "    make_decision_tree, test_tree)"
   ]
  },
  {
   "cell_type": "code",
   "execution_count": 14,
   "metadata": {},
   "outputs": [],
   "source": [
    "data = read_data(\"HW3_Data.txt\")\n",
    "speed_categories, distance_categories, location_categories = bin_data(data)\n",
    "categories = [0, speed_categories, distance_categories, location_categories]\n",
    "random.shuffle(data)"
   ]
  },
  {
   "cell_type": "code",
   "execution_count": 15,
   "metadata": {},
   "outputs": [],
   "source": [
    "test_data, learning_data = split_fold(data, 9)"
   ]
  },
  {
   "cell_type": "code",
   "execution_count": 16,
   "metadata": {},
   "outputs": [],
   "source": [
    "root = make_decision_tree(learning_data, categories)"
   ]
  },
  {
   "cell_type": "code",
   "execution_count": null,
   "metadata": {},
   "outputs": [],
   "source": []
  },
  {
   "cell_type": "code",
   "execution_count": null,
   "metadata": {},
   "outputs": [],
   "source": []
  },
  {
   "cell_type": "code",
   "execution_count": null,
   "metadata": {},
   "outputs": [],
   "source": []
  },
  {
   "cell_type": "code",
   "execution_count": null,
   "metadata": {},
   "outputs": [],
   "source": []
  },
  {
   "cell_type": "code",
   "execution_count": 17,
   "metadata": {},
   "outputs": [
    {
     "data": {
      "text/plain": [
       "Node: 2"
      ]
     },
     "execution_count": 17,
     "metadata": {},
     "output_type": "execute_result"
    }
   ],
   "source": [
    "root"
   ]
  },
  {
   "cell_type": "code",
   "execution_count": 8,
   "metadata": {},
   "outputs": [],
   "source": [
    "import networkx as nx"
   ]
  },
  {
   "cell_type": "code",
   "execution_count": 9,
   "metadata": {},
   "outputs": [],
   "source": [
    "import matplotlib.pyplot as plt\n",
    "plt.show()"
   ]
  },
  {
   "cell_type": "code",
   "execution_count": 10,
   "metadata": {},
   "outputs": [],
   "source": [
    "def make_graph_helper(root, G):\n",
    "    for c in root.children:  # branch\n",
    "        G.add_edge(root, c)\n",
    "        if c.children:\n",
    "            make_graph_helper(c, G)\n",
    "    return G\n",
    "\n",
    "def make_graph(root):\n",
    "    G=nx.DiGraph()\n",
    "    make_graph_helper(root, G)\n",
    "    return G\n",
    "\n",
    "g = make_graph(root)"
   ]
  },
  {
   "cell_type": "markdown",
   "metadata": {},
   "source": [
    "## Pydot"
   ]
  },
  {
   "cell_type": "code",
   "execution_count": 32,
   "metadata": {},
   "outputs": [],
   "source": [
    "from IPython.display import Image\n",
    "import pydot"
   ]
  },
  {
   "cell_type": "code",
   "execution_count": 19,
   "metadata": {},
   "outputs": [],
   "source": []
  },
  {
   "cell_type": "code",
   "execution_count": 35,
   "metadata": {},
   "outputs": [],
   "source": [
    "graph = pydot.Dot(graph_type='graph')"
   ]
  },
  {
   "cell_type": "code",
   "execution_count": 38,
   "metadata": {},
   "outputs": [],
   "source": [
    "graph = pydot.Dot(graph_type='graph')"
   ]
  },
  {
   "cell_type": "code",
   "execution_count": 39,
   "metadata": {},
   "outputs": [
    {
     "data": {
      "text/plain": [
       "<pydot.Dot at 0x1190ad320>"
      ]
     },
     "execution_count": 39,
     "metadata": {},
     "output_type": "execute_result"
    }
   ],
   "source": [
    "graph"
   ]
  },
  {
   "cell_type": "code",
   "execution_count": 44,
   "metadata": {},
   "outputs": [
    {
     "data": {
      "text/plain": [
       "2"
      ]
     },
     "execution_count": 44,
     "metadata": {},
     "output_type": "execute_result"
    }
   ],
   "source": [
    "len([root, graph])"
   ]
  },
  {
   "cell_type": "code",
   "execution_count": 148,
   "metadata": {},
   "outputs": [],
   "source": []
  },
  {
   "cell_type": "code",
   "execution_count": 201,
   "metadata": {},
   "outputs": [],
   "source": [
    "from IPython.display import Image\n",
    "import random"
   ]
  },
  {
   "cell_type": "code",
   "execution_count": 202,
   "metadata": {},
   "outputs": [],
   "source": [
    "colors = ['red','green','blue','orange','pink']"
   ]
  },
  {
   "cell_type": "code",
   "execution_count": 253,
   "metadata": {},
   "outputs": [
    {
     "data": {
      "text/plain": [
       "Node: 1"
      ]
     },
     "execution_count": 253,
     "metadata": {},
     "output_type": "execute_result"
    }
   ],
   "source": [
    "root.children[2].children[0]"
   ]
  },
  {
   "cell_type": "code",
   "execution_count": null,
   "metadata": {},
   "outputs": [],
   "source": []
  },
  {
   "cell_type": "code",
   "execution_count": null,
   "metadata": {},
   "outputs": [],
   "source": []
  },
  {
   "cell_type": "code",
   "execution_count": 278,
   "metadata": {},
   "outputs": [],
   "source": [
    "def make_graph_helper(root, graph):\n",
    "    \n",
    "    col = random.choice(colors)\n",
    "    nxt_nodes = []\n",
    "    \n",
    "    if root.children:\n",
    "        for branch in root.children:\n",
    "            nxt_node = branch.children[0]\n",
    "            nxt_nodes.append(nxt_node)\n",
    "            \n",
    "            graph.add_edge(pydot.Edge(\n",
    "                root.value, nxt_node.value,\n",
    "                label=f\"{root.value}, {branch.value}\",\n",
    "                color=col)) \n",
    "            \n",
    "    for n in set(nxt_nodes):\n",
    "        make_graph_helper(n, graph)\n",
    "            \n",
    "def make_graph(root):\n",
    "    graph = pydot.Dot(graph_type='graph')\n",
    "    make_graph_helper(root, graph)\n",
    "    return graph"
   ]
  },
  {
   "cell_type": "code",
   "execution_count": 282,
   "metadata": {},
   "outputs": [
    {
     "data": {
      "image/png": "[encoded data removed]",
      "text/plain": [
       "<IPython.core.display.Image object>"
      ]
     },
     "execution_count": 282,
     "metadata": {},
     "output_type": "execute_result"
    }
   ],
   "source": [
    "# g = make_graph(root)\n",
    "\n",
    "g = make_graph(root.children[7].children[0])\n",
    "png_str = g.create_png(prog='dot')\n",
    "Image(png_str)"
   ]
  },
  {
   "cell_type": "code",
   "execution_count": 281,
   "metadata": {},
   "outputs": [
    {
     "data": {
      "text/plain": [
       "[Node: 1]"
      ]
     },
     "execution_count": 281,
     "metadata": {},
     "output_type": "execute_result"
    }
   ],
   "source": [
    "root.children[7].children"
   ]
  },
  {
   "cell_type": "code",
   "execution_count": null,
   "metadata": {},
   "outputs": [],
   "source": []
  },
  {
   "cell_type": "code",
   "execution_count": null,
   "metadata": {},
   "outputs": [],
   "source": []
  },
  {
   "cell_type": "code",
   "execution_count": 265,
   "metadata": {},
   "outputs": [],
   "source": [
    "r = root.children[0].children[0]"
   ]
  },
  {
   "cell_type": "code",
   "execution_count": 264,
   "metadata": {},
   "outputs": [
    {
     "data": {
      "text/plain": [
       "Node: 1"
      ]
     },
     "execution_count": 264,
     "metadata": {},
     "output_type": "execute_result"
    }
   ],
   "source": [
    "r"
   ]
  },
  {
   "cell_type": "code",
   "execution_count": 262,
   "metadata": {},
   "outputs": [
    {
     "name": "stdout",
     "output_type": "stream",
     "text": [
      "0 Short 3\n",
      "1 Long 3\n"
     ]
    }
   ],
   "source": [
    "for i, c in enumerate(r.children):\n",
    "    print(i, c.value, c.children[0].value)"
   ]
  },
  {
   "cell_type": "code",
   "execution_count": null,
   "metadata": {},
   "outputs": [],
   "source": []
  },
  {
   "cell_type": "code",
   "execution_count": 243,
   "metadata": {},
   "outputs": [],
   "source": [
    "r = root.children[3].children[0]"
   ]
  },
  {
   "cell_type": "code",
   "execution_count": 244,
   "metadata": {},
   "outputs": [
    {
     "data": {
      "text/plain": [
       "Node: 1"
      ]
     },
     "execution_count": 244,
     "metadata": {},
     "output_type": "execute_result"
    }
   ],
   "source": [
    "r"
   ]
  },
  {
   "cell_type": "code",
   "execution_count": 245,
   "metadata": {},
   "outputs": [
    {
     "name": "stdout",
     "output_type": "stream",
     "text": [
      "Short - 3\n",
      "Long - 3\n"
     ]
    }
   ],
   "source": [
    "for c in r.children:\n",
    "    print(c.value, end=' - ')\n",
    "    print(c.children[0].value)"
   ]
  },
  {
   "cell_type": "code",
   "execution_count": null,
   "metadata": {},
   "outputs": [],
   "source": []
  },
  {
   "cell_type": "code",
   "execution_count": null,
   "metadata": {},
   "outputs": [],
   "source": []
  },
  {
   "cell_type": "code",
   "execution_count": null,
   "metadata": {},
   "outputs": [],
   "source": []
  },
  {
   "cell_type": "code",
   "execution_count": null,
   "metadata": {},
   "outputs": [],
   "source": []
  },
  {
   "cell_type": "code",
   "execution_count": 67,
   "metadata": {},
   "outputs": [],
   "source": [
    "def make_graph_helper(root, graph):\n",
    "    for c in root.children:  # branch\n",
    "        edge = pydot.Edge(str(root.value), '{}_{}'.format(c.value, root.value))\n",
    "        graph.add_edge(edge)\n",
    "        if c.children:\n",
    "            make_graph_helper(c, graph)\n",
    "            \n",
    "def make_graph(root):\n",
    "    graph = pydot.Dot(graph_type='graph')\n",
    "    make_graph_helper(root, graph)\n",
    "    return graph\n",
    "\n",
    "g = make_graph(root)"
   ]
  },
  {
   "cell_type": "code",
   "execution_count": 70,
   "metadata": {},
   "outputs": [],
   "source": [
    "from IPython.display import Image\n",
    "\n",
    "png_str = g.create_png(prog='dot')\n",
    "\n",
    "Image(png_str)"
   ]
  },
  {
   "cell_type": "code",
   "execution_count": null,
   "metadata": {},
   "outputs": [],
   "source": []
  },
  {
   "cell_type": "code",
   "execution_count": 83,
   "metadata": {},
   "outputs": [
    {
     "name": "stdout",
     "output_type": "stream",
     "text": [
      "['dot', '-Tpng', '/var/folders/5z/pwgqsmnd0s3gwh979nyls0bw0000gp/T/tmpuackmw9z'] return code: 1\n",
      "\n",
      "stdout, stderr:\n",
      " b''\n",
      "b\"Error: /var/folders/5z/pwgqsmnd0s3gwh979nyls0bw0000gp/T/tmpuackmw9z: syntax error in line 2 near ';'\\n\"\n",
      "\n"
     ]
    },
    {
     "ename": "AssertionError",
     "evalue": "1",
     "output_type": "error",
     "traceback": [
      "\u001b[0;31m---------------------------------------------------------------------------\u001b[0m",
      "\u001b[0;31mAssertionError\u001b[0m                            Traceback (most recent call last)",
      "\u001b[0;32m<ipython-input-83-ed645a2cbc20>\u001b[0m in \u001b[0;36m<module>\u001b[0;34m()\u001b[0m\n\u001b[0;32m----> 1\u001b[0;31m \u001b[0mp\u001b[0m\u001b[0;34m.\u001b[0m\u001b[0mwrite_png\u001b[0m\u001b[0;34m(\u001b[0m\u001b[0;34m'example.png'\u001b[0m\u001b[0;34m)\u001b[0m\u001b[0;34m\u001b[0m\u001b[0m\n\u001b[0m",
      "\u001b[0;32m~/miniconda3/envs/ai/lib/python3.6/site-packages/pydot.py\u001b[0m in \u001b[0;36mnew_method\u001b[0;34m(path, f, prog, encoding)\u001b[0m\n\u001b[1;32m   1671\u001b[0m                 self.write(\n\u001b[1;32m   1672\u001b[0m                     \u001b[0mpath\u001b[0m\u001b[0;34m,\u001b[0m \u001b[0mformat\u001b[0m\u001b[0;34m=\u001b[0m\u001b[0mf\u001b[0m\u001b[0;34m,\u001b[0m \u001b[0mprog\u001b[0m\u001b[0;34m=\u001b[0m\u001b[0mprog\u001b[0m\u001b[0;34m,\u001b[0m\u001b[0;34m\u001b[0m\u001b[0m\n\u001b[0;32m-> 1673\u001b[0;31m                     encoding=encoding)\n\u001b[0m\u001b[1;32m   1674\u001b[0m             \u001b[0mname\u001b[0m \u001b[0;34m=\u001b[0m \u001b[0;34m'write_{fmt}'\u001b[0m\u001b[0;34m.\u001b[0m\u001b[0mformat\u001b[0m\u001b[0;34m(\u001b[0m\u001b[0mfmt\u001b[0m\u001b[0;34m=\u001b[0m\u001b[0mfrmt\u001b[0m\u001b[0;34m)\u001b[0m\u001b[0;34m\u001b[0m\u001b[0m\n\u001b[1;32m   1675\u001b[0m             \u001b[0mself\u001b[0m\u001b[0;34m.\u001b[0m\u001b[0m__setattr__\u001b[0m\u001b[0;34m(\u001b[0m\u001b[0mname\u001b[0m\u001b[0;34m,\u001b[0m \u001b[0mnew_method\u001b[0m\u001b[0;34m)\u001b[0m\u001b[0;34m\u001b[0m\u001b[0m\n",
      "\u001b[0;32m~/miniconda3/envs/ai/lib/python3.6/site-packages/pydot.py\u001b[0m in \u001b[0;36mwrite\u001b[0;34m(self, path, prog, format, encoding)\u001b[0m\n\u001b[1;32m   1754\u001b[0m                 \u001b[0mf\u001b[0m\u001b[0;34m.\u001b[0m\u001b[0mwrite\u001b[0m\u001b[0;34m(\u001b[0m\u001b[0ms\u001b[0m\u001b[0;34m)\u001b[0m\u001b[0;34m\u001b[0m\u001b[0m\n\u001b[1;32m   1755\u001b[0m         \u001b[0;32melse\u001b[0m\u001b[0;34m:\u001b[0m\u001b[0;34m\u001b[0m\u001b[0m\n\u001b[0;32m-> 1756\u001b[0;31m             \u001b[0ms\u001b[0m \u001b[0;34m=\u001b[0m \u001b[0mself\u001b[0m\u001b[0;34m.\u001b[0m\u001b[0mcreate\u001b[0m\u001b[0;34m(\u001b[0m\u001b[0mprog\u001b[0m\u001b[0;34m,\u001b[0m \u001b[0mformat\u001b[0m\u001b[0;34m,\u001b[0m \u001b[0mencoding\u001b[0m\u001b[0;34m=\u001b[0m\u001b[0mencoding\u001b[0m\u001b[0;34m)\u001b[0m\u001b[0;34m\u001b[0m\u001b[0m\n\u001b[0m\u001b[1;32m   1757\u001b[0m             \u001b[0;32mwith\u001b[0m \u001b[0mio\u001b[0m\u001b[0;34m.\u001b[0m\u001b[0mopen\u001b[0m\u001b[0;34m(\u001b[0m\u001b[0mpath\u001b[0m\u001b[0;34m,\u001b[0m \u001b[0mmode\u001b[0m\u001b[0;34m=\u001b[0m\u001b[0;34m'wb'\u001b[0m\u001b[0;34m)\u001b[0m \u001b[0;32mas\u001b[0m \u001b[0mf\u001b[0m\u001b[0;34m:\u001b[0m\u001b[0;34m\u001b[0m\u001b[0m\n\u001b[1;32m   1758\u001b[0m                 \u001b[0mf\u001b[0m\u001b[0;34m.\u001b[0m\u001b[0mwrite\u001b[0m\u001b[0;34m(\u001b[0m\u001b[0ms\u001b[0m\u001b[0;34m)\u001b[0m\u001b[0;34m\u001b[0m\u001b[0m\n",
      "\u001b[0;32m~/miniconda3/envs/ai/lib/python3.6/site-packages/pydot.py\u001b[0m in \u001b[0;36mcreate\u001b[0;34m(self, prog, format, encoding)\u001b[0m\n\u001b[1;32m   1882\u001b[0m                      \u001b[0mout\u001b[0m\u001b[0;34m=\u001b[0m\u001b[0mstdout_data\u001b[0m\u001b[0;34m,\u001b[0m\u001b[0;34m\u001b[0m\u001b[0m\n\u001b[1;32m   1883\u001b[0m                      err=stderr_data))\n\u001b[0;32m-> 1884\u001b[0;31m         \u001b[0;32massert\u001b[0m \u001b[0mp\u001b[0m\u001b[0;34m.\u001b[0m\u001b[0mreturncode\u001b[0m \u001b[0;34m==\u001b[0m \u001b[0;36m0\u001b[0m\u001b[0;34m,\u001b[0m \u001b[0mp\u001b[0m\u001b[0;34m.\u001b[0m\u001b[0mreturncode\u001b[0m\u001b[0;34m\u001b[0m\u001b[0m\n\u001b[0m\u001b[1;32m   1885\u001b[0m         \u001b[0;32mreturn\u001b[0m \u001b[0mstdout_data\u001b[0m\u001b[0;34m\u001b[0m\u001b[0m\n",
      "\u001b[0;31mAssertionError\u001b[0m: 1"
     ]
    }
   ],
   "source": [
    "p.write_png('example.png')"
   ]
  },
  {
   "cell_type": "code",
   "execution_count": null,
   "metadata": {},
   "outputs": [],
   "source": []
  },
  {
   "cell_type": "code",
   "execution_count": null,
   "metadata": {},
   "outputs": [],
   "source": []
  },
  {
   "cell_type": "code",
   "execution_count": null,
   "metadata": {},
   "outputs": [],
   "source": []
  },
  {
   "cell_type": "code",
   "execution_count": 70,
   "metadata": {},
   "outputs": [],
   "source": [
    "def make_graph(root):\n",
    "    G=nx.Graph()\n",
    "    \n",
    "    print(root, end=\"\\n\\n\")\n",
    "    G.add_node(root)\n",
    "    \n",
    "    for c in root.children:  # branch\n",
    "        if c.children:\n",
    "            G.add_node\n",
    "            \n",
    "            \n",
    "            print(c.children[0]) # node\n",
    "            display(c)"
   ]
  },
  {
   "cell_type": "code",
   "execution_count": 67,
   "metadata": {},
   "outputs": [],
   "source": []
  },
  {
   "cell_type": "code",
   "execution_count": 13,
   "metadata": {},
   "outputs": [],
   "source": []
  },
  {
   "cell_type": "code",
   "execution_count": 14,
   "metadata": {},
   "outputs": [],
   "source": [
    "G.add_node(n1)\n",
    "G.add_node(n2)"
   ]
  },
  {
   "cell_type": "code",
   "execution_count": 15,
   "metadata": {},
   "outputs": [],
   "source": [
    "G.add_edge(n1, n2)"
   ]
  },
  {
   "cell_type": "code",
   "execution_count": 16,
   "metadata": {},
   "outputs": [],
   "source": []
  },
  {
   "cell_type": "code",
   "execution_count": 17,
   "metadata": {},
   "outputs": [
    {
     "data": {
      "image/png": "[encoded data removed]",
      "text/plain": [
       "<matplotlib.figure.Figure at 0x11a540470>"
      ]
     },
     "metadata": {},
     "output_type": "display_data"
    }
   ],
   "source": [
    "nx.draw(G)"
   ]
  },
  {
   "cell_type": "code",
   "execution_count": null,
   "metadata": {},
   "outputs": [],
   "source": []
  },
  {
   "cell_type": "code",
   "execution_count": 108,
   "metadata": {},
   "outputs": [],
   "source": [
    "G=nx.Graph()"
   ]
  },
  {
   "cell_type": "code",
   "execution_count": 109,
   "metadata": {},
   "outputs": [],
   "source": [
    "G.add_node(root.value)"
   ]
  },
  {
   "cell_type": "code",
   "execution_count": 110,
   "metadata": {},
   "outputs": [],
   "source": [
    " H=nx.path_graph(10)"
   ]
  },
  {
   "cell_type": "code",
   "execution_count": 111,
   "metadata": {},
   "outputs": [],
   "source": [
    "import matplotlib.pyplot as plt"
   ]
  },
  {
   "cell_type": "code",
   "execution_count": 114,
   "metadata": {},
   "outputs": [
    {
     "name": "stderr",
     "output_type": "stream",
     "text": [
      "/Users/dustymichels/miniconda3/lib/python3.6/site-packages/networkx/drawing/nx_pylab.py:126: MatplotlibDeprecationWarning: pyplot.hold is deprecated.\n",
      "    Future behavior will be consistent with the long-time default:\n",
      "    plot commands add elements without first clearing the\n",
      "    Axes and/or Figure.\n",
      "  b = plt.ishold()\n",
      "/Users/dustymichels/miniconda3/lib/python3.6/site-packages/networkx/drawing/nx_pylab.py:138: MatplotlibDeprecationWarning: pyplot.hold is deprecated.\n",
      "    Future behavior will be consistent with the long-time default:\n",
      "    plot commands add elements without first clearing the\n",
      "    Axes and/or Figure.\n",
      "  plt.hold(b)\n",
      "/Users/dustymichels/miniconda3/lib/python3.6/site-packages/matplotlib/__init__.py:917: UserWarning: axes.hold is deprecated. Please remove it from your matplotlibrc and/or style files.\n",
      "  warnings.warn(self.msg_depr_set % key)\n",
      "/Users/dustymichels/miniconda3/lib/python3.6/site-packages/matplotlib/rcsetup.py:152: UserWarning: axes.hold is deprecated, will be removed in 3.0\n",
      "  warnings.warn(\"axes.hold is deprecated, will be removed in 3.0\")\n"
     ]
    },
    {
     "data": {
      "image/png": "[encoded data removed]",
      "text/plain": [
       "<matplotlib.figure.Figure at 0x115db7b70>"
      ]
     },
     "metadata": {},
     "output_type": "display_data"
    }
   ],
   "source": [
    "nx.draw(H)"
   ]
  },
  {
   "cell_type": "code",
   "execution_count": null,
   "metadata": {},
   "outputs": [],
   "source": []
  },
  {
   "cell_type": "code",
   "execution_count": 104,
   "metadata": {},
   "outputs": [],
   "source": [
    "def display_node(n):\n",
    "    print(\"\\t\\t\\t <{}>\".format(n.value))\n",
    "    for c in n.children:\n",
    "        print(c.value, end='')\n",
    "        print(\"|\", end='\\t')\n",
    "    print()\n",
    "    [display_node(c) for c in n.children]"
   ]
  },
  {
   "cell_type": "code",
   "execution_count": 105,
   "metadata": {},
   "outputs": [
    {
     "name": "stdout",
     "output_type": "stream",
     "text": [
      "\t\t\t <2>\n",
      "<10|\t<20|\t<30|\t<40|\t<50|\t<60|\t<70|\t>70|\t\n",
      "\t\t\t <<10>\n",
      "3|\t\n",
      "\t\t\t <3>\n",
      "Office|\tWarehouse|\t\n",
      "\t\t\t <Office>\n",
      "1|\t\n",
      "\t\t\t <1>\n",
      "Short|\tLong|\t\n",
      "\t\t\t <Short>\n",
      "Safe|\t\n",
      "\t\t\t <Safe>\n",
      "\n",
      "\t\t\t <Long>\n",
      "Safe|\t\n",
      "\t\t\t <Safe>\n",
      "\n",
      "\t\t\t <Warehouse>\n",
      "1|\t\n",
      "\t\t\t <1>\n",
      "Short|\tLong|\t\n",
      "\t\t\t <Short>\n",
      "Safe|\t\n",
      "\t\t\t <Safe>\n",
      "\n",
      "\t\t\t <Long>\n",
      "Safe|\t\n",
      "\t\t\t <Safe>\n",
      "\n",
      "\t\t\t <<20>\n",
      "1|\t\n",
      "\t\t\t <1>\n",
      "Short|\tLong|\t\n",
      "\t\t\t <Short>\n",
      "3|\t\n",
      "\t\t\t <3>\n",
      "Office|\tWarehouse|\t\n",
      "\t\t\t <Office>\n",
      "Safe|\t\n",
      "\t\t\t <Safe>\n",
      "\n",
      "\t\t\t <Warehouse>\n",
      "Safe|\t\n",
      "\t\t\t <Safe>\n",
      "\n",
      "\t\t\t <Long>\n",
      "3|\t\n",
      "\t\t\t <3>\n",
      "Office|\tWarehouse|\t\n",
      "\t\t\t <Office>\n",
      "Safe|\t\n",
      "\t\t\t <Safe>\n",
      "\n",
      "\t\t\t <Warehouse>\n",
      "Safe|\t\n",
      "\t\t\t <Safe>\n",
      "\n",
      "\t\t\t <<30>\n",
      "1|\t\n",
      "\t\t\t <1>\n",
      "Short|\tLong|\t\n",
      "\t\t\t <Short>\n",
      "3|\t\n",
      "\t\t\t <3>\n",
      "Office|\tWarehouse|\t\n",
      "\t\t\t <Office>\n",
      "Safe|\t\n",
      "\t\t\t <Safe>\n",
      "\n",
      "\t\t\t <Warehouse>\n",
      "Safe|\t\n",
      "\t\t\t <Safe>\n",
      "\n",
      "\t\t\t <Long>\n",
      "3|\t\n",
      "\t\t\t <3>\n",
      "Office|\tWarehouse|\t\n",
      "\t\t\t <Office>\n",
      "Safe|\t\n",
      "\t\t\t <Safe>\n",
      "\n",
      "\t\t\t <Warehouse>\n",
      "Safe|\t\n",
      "\t\t\t <Safe>\n",
      "\n",
      "\t\t\t <<40>\n",
      "1|\t\n",
      "\t\t\t <1>\n",
      "Short|\tLong|\t\n",
      "\t\t\t <Short>\n",
      "3|\t\n",
      "\t\t\t <3>\n",
      "Office|\tWarehouse|\t\n",
      "\t\t\t <Office>\n",
      "Safe|\t\n",
      "\t\t\t <Safe>\n",
      "\n",
      "\t\t\t <Warehouse>\n",
      "Safe|\t\n",
      "\t\t\t <Safe>\n",
      "\n",
      "\t\t\t <Long>\n",
      "3|\t\n",
      "\t\t\t <3>\n",
      "Office|\tWarehouse|\t\n",
      "\t\t\t <Office>\n",
      "Safe|\t\n",
      "\t\t\t <Safe>\n",
      "\n",
      "\t\t\t <Warehouse>\n",
      "Safe|\t\n",
      "\t\t\t <Safe>\n",
      "\n",
      "\t\t\t <<50>\n",
      "1|\t\n",
      "\t\t\t <1>\n",
      "Short|\tLong|\t\n",
      "\t\t\t <Short>\n",
      "3|\t\n",
      "\t\t\t <3>\n",
      "Office|\tWarehouse|\t\n",
      "\t\t\t <Office>\n",
      "Safe|\t\n",
      "\t\t\t <Safe>\n",
      "\n",
      "\t\t\t <Warehouse>\n",
      "Safe|\t\n",
      "\t\t\t <Safe>\n",
      "\n",
      "\t\t\t <Long>\n",
      "3|\t\n",
      "\t\t\t <3>\n",
      "Office|\tWarehouse|\t\n",
      "\t\t\t <Office>\n",
      "Safe|\t\n",
      "\t\t\t <Safe>\n",
      "\n",
      "\t\t\t <Warehouse>\n",
      "Safe|\t\n",
      "\t\t\t <Safe>\n",
      "\n",
      "\t\t\t <<60>\n",
      "1|\t\n",
      "\t\t\t <1>\n",
      "Short|\tLong|\t\n",
      "\t\t\t <Short>\n",
      "3|\t\n",
      "\t\t\t <3>\n",
      "Office|\tWarehouse|\t\n",
      "\t\t\t <Office>\n",
      "Safe|\t\n",
      "\t\t\t <Safe>\n",
      "\n",
      "\t\t\t <Warehouse>\n",
      "Safe|\t\n",
      "\t\t\t <Safe>\n",
      "\n",
      "\t\t\t <Long>\n",
      "3|\t\n",
      "\t\t\t <3>\n",
      "Office|\tWarehouse|\t\n",
      "\t\t\t <Office>\n",
      "Safe|\t\n",
      "\t\t\t <Safe>\n",
      "\n",
      "\t\t\t <Warehouse>\n",
      "Safe|\t\n",
      "\t\t\t <Safe>\n",
      "\n",
      "\t\t\t <<70>\n",
      "NonCompliant|\t\n",
      "\t\t\t <NonCompliant>\n",
      "\n",
      "\t\t\t <>70>\n",
      "1|\t\n",
      "\t\t\t <1>\n",
      "Short|\tLong|\t\n",
      "\t\t\t <Short>\n",
      "3|\t\n",
      "\t\t\t <3>\n",
      "Office|\tWarehouse|\t\n",
      "\t\t\t <Office>\n",
      "Safe|\t\n",
      "\t\t\t <Safe>\n",
      "\n",
      "\t\t\t <Warehouse>\n",
      "Safe|\t\n",
      "\t\t\t <Safe>\n",
      "\n",
      "\t\t\t <Long>\n",
      "3|\t\n",
      "\t\t\t <3>\n",
      "Office|\tWarehouse|\t\n",
      "\t\t\t <Office>\n",
      "Safe|\t\n",
      "\t\t\t <Safe>\n",
      "\n",
      "\t\t\t <Warehouse>\n",
      "Safe|\t\n",
      "\t\t\t <Safe>\n",
      "\n"
     ]
    }
   ],
   "source": [
    "display_node(root)"
   ]
  },
  {
   "cell_type": "code",
   "execution_count": 90,
   "metadata": {},
   "outputs": [
    {
     "data": {
      "text/plain": [
       "Node: <10"
      ]
     },
     "execution_count": 90,
     "metadata": {},
     "output_type": "execute_result"
    }
   ],
   "source": [
    "root.children[0]"
   ]
  },
  {
   "cell_type": "code",
   "execution_count": 91,
   "metadata": {},
   "outputs": [
    {
     "name": "stdout",
     "output_type": "stream",
     "text": [
      "\t\t\t <<10>\n",
      "3|\t"
     ]
    }
   ],
   "source": [
    "display_node(root.children[0])"
   ]
  },
  {
   "cell_type": "code",
   "execution_count": 12,
   "metadata": {},
   "outputs": [
    {
     "data": {
      "text/plain": [
       "['<10', '<20', '<30', '<40', '<50', '<60', '<70', '>70']"
      ]
     },
     "execution_count": 12,
     "metadata": {},
     "output_type": "execute_result"
    }
   ],
   "source": [
    "categories[2]"
   ]
  },
  {
   "cell_type": "code",
   "execution_count": 8,
   "metadata": {},
   "outputs": [
    {
     "data": {
      "text/plain": [
       "2"
      ]
     },
     "execution_count": 8,
     "metadata": {},
     "output_type": "execute_result"
    }
   ],
   "source": [
    "root.value"
   ]
  },
  {
   "cell_type": "code",
   "execution_count": 9,
   "metadata": {},
   "outputs": [
    {
     "data": {
      "text/plain": [
       "[<10, <20, <30, <40, <50, <60, <70, >70]"
      ]
     },
     "execution_count": 9,
     "metadata": {},
     "output_type": "execute_result"
    }
   ],
   "source": [
    "root.children"
   ]
  },
  {
   "cell_type": "code",
   "execution_count": null,
   "metadata": {},
   "outputs": [],
   "source": []
  },
  {
   "cell_type": "code",
   "execution_count": null,
   "metadata": {},
   "outputs": [],
   "source": []
  },
  {
   "cell_type": "code",
   "execution_count": 37,
   "metadata": {},
   "outputs": [],
   "source": [
    "from dec_tree import *"
   ]
  },
  {
   "cell_type": "code",
   "execution_count": 40,
   "metadata": {},
   "outputs": [
    {
     "data": {
      "text/plain": [
       "0.6910143378800977"
      ]
     },
     "execution_count": 40,
     "metadata": {},
     "output_type": "execute_result"
    }
   ],
   "source": [
    "e = calculate_entropy(learning_data)\n",
    "e"
   ]
  },
  {
   "cell_type": "code",
   "execution_count": 48,
   "metadata": {},
   "outputs": [
    {
     "data": {
      "text/plain": [
       "2"
      ]
     },
     "execution_count": 48,
     "metadata": {},
     "output_type": "execute_result"
    }
   ],
   "source": [
    "next_col = find_next_column(learning_data, e)\n",
    "next_col"
   ]
  },
  {
   "cell_type": "code",
   "execution_count": 49,
   "metadata": {},
   "outputs": [],
   "source": [
    "root = Node(next_col)"
   ]
  },
  {
   "cell_type": "code",
   "execution_count": 51,
   "metadata": {},
   "outputs": [],
   "source": []
  },
  {
   "cell_type": "code",
   "execution_count": null,
   "metadata": {},
   "outputs": [],
   "source": []
  },
  {
   "cell_type": "code",
   "execution_count": 46,
   "metadata": {},
   "outputs": [
    {
     "data": {
      "text/plain": [
       "<dec_tree.Node at 0x10c23bb38>"
      ]
     },
     "execution_count": 46,
     "metadata": {},
     "output_type": "execute_result"
    }
   ],
   "source": [
    "root"
   ]
  },
  {
   "cell_type": "code",
   "execution_count": 47,
   "metadata": {},
   "outputs": [
    {
     "data": {
      "text/plain": [
       "[0,\n",
       " ['Short', 'Long'],\n",
       " ['<10', '<20', '<30', '<40', '<50', '<60', '<70', '>70'],\n",
       " ['Office', 'Warehouse']]"
      ]
     },
     "execution_count": 47,
     "metadata": {},
     "output_type": "execute_result"
    }
   ],
   "source": [
    "categories"
   ]
  },
  {
   "cell_type": "code",
   "execution_count": null,
   "metadata": {},
   "outputs": [],
   "source": []
  },
  {
   "cell_type": "code",
   "execution_count": 36,
   "metadata": {},
   "outputs": [
    {
     "data": {
      "text/plain": [
       "<dec_tree.Node at 0x10c2ba828>"
      ]
     },
     "execution_count": 36,
     "metadata": {},
     "output_type": "execute_result"
    }
   ],
   "source": [
    "root"
   ]
  },
  {
   "cell_type": "code",
   "execution_count": null,
   "metadata": {},
   "outputs": [],
   "source": []
  },
  {
   "cell_type": "code",
   "execution_count": null,
   "metadata": {},
   "outputs": [],
   "source": []
  },
  {
   "cell_type": "code",
   "execution_count": null,
   "metadata": {},
   "outputs": [],
   "source": []
  },
  {
   "cell_type": "code",
   "execution_count": null,
   "metadata": {},
   "outputs": [],
   "source": [
    "make_decision_tree(learning_data)"
   ]
  },
  {
   "cell_type": "code",
   "execution_count": null,
   "metadata": {},
   "outputs": [],
   "source": []
  },
  {
   "cell_type": "code",
   "execution_count": null,
   "metadata": {},
   "outputs": [],
   "source": []
  },
  {
   "cell_type": "code",
   "execution_count": null,
   "metadata": {},
   "outputs": [],
   "source": []
  },
  {
   "cell_type": "code",
   "execution_count": null,
   "metadata": {},
   "outputs": [],
   "source": []
  },
  {
   "cell_type": "markdown",
   "metadata": {},
   "source": [
    "## Data Validadation"
   ]
  },
  {
   "cell_type": "code",
   "execution_count": 5,
   "metadata": {},
   "outputs": [],
   "source": [
    "import random"
   ]
  },
  {
   "cell_type": "code",
   "execution_count": null,
   "metadata": {},
   "outputs": [],
   "source": [
    "random.randint()"
   ]
  }
 ],
 "metadata": {
  "kernelspec": {
   "display_name": "Python 3",
   "language": "python",
   "name": "python3"
  },
  "language_info": {
   "codemirror_mode": {
    "name": "ipython",
    "version": 3
   },
   "file_extension": ".py",
   "mimetype": "text/x-python",
   "name": "python",
   "nbconvert_exporter": "python",
   "pygments_lexer": "ipython3",
   "version": "3.6.4"
  }
 },
 "nbformat": 4,
 "nbformat_minor": 2
}
