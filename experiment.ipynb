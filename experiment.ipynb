{
 "cells": [
  {
   "cell_type": "markdown",
   "metadata": {},
   "source": [
    "# OSHA Compliance"
   ]
  },
  {
   "cell_type": "code",
   "execution_count": 1,
   "metadata": {},
   "outputs": [],
   "source": [
    "import pandas as pd\n",
    "import random"
   ]
  },
  {
   "cell_type": "code",
   "execution_count": 2,
   "metadata": {
    "scrolled": true
   },
   "outputs": [
    {
     "data": {
      "text/html": [
       "<div>\n",
       "<style scoped>\n",
       "    .dataframe tbody tr th:only-of-type {\n",
       "        vertical-align: middle;\n",
       "    }\n",
       "\n",
       "    .dataframe tbody tr th {\n",
       "        vertical-align: top;\n",
       "    }\n",
       "\n",
       "    .dataframe thead th {\n",
       "        text-align: right;\n",
       "    }\n",
       "</style>\n",
       "<table border=\"1\" class=\"dataframe\">\n",
       "  <thead>\n",
       "    <tr style=\"text-align: right;\">\n",
       "      <th></th>\n",
       "      <th>HeatMiser_ID</th>\n",
       "      <th>Distance_Feature</th>\n",
       "      <th>Speeding_Feature</th>\n",
       "      <th>Location Type</th>\n",
       "      <th>OSHA</th>\n",
       "    </tr>\n",
       "  </thead>\n",
       "  <tbody>\n",
       "    <tr>\n",
       "      <th>0</th>\n",
       "      <td>2018_01</td>\n",
       "      <td>53.76</td>\n",
       "      <td>9</td>\n",
       "      <td>Office</td>\n",
       "      <td>Safe</td>\n",
       "    </tr>\n",
       "    <tr>\n",
       "      <th>1</th>\n",
       "      <td>2018_02</td>\n",
       "      <td>51.86</td>\n",
       "      <td>4</td>\n",
       "      <td>Office</td>\n",
       "      <td>Safe</td>\n",
       "    </tr>\n",
       "    <tr>\n",
       "      <th>2</th>\n",
       "      <td>2018_03</td>\n",
       "      <td>51.59</td>\n",
       "      <td>4</td>\n",
       "      <td>Office</td>\n",
       "      <td>Safe</td>\n",
       "    </tr>\n",
       "    <tr>\n",
       "      <th>3</th>\n",
       "      <td>2018_04</td>\n",
       "      <td>168.90</td>\n",
       "      <td>5</td>\n",
       "      <td>Warehouse</td>\n",
       "      <td>Safe</td>\n",
       "    </tr>\n",
       "    <tr>\n",
       "      <th>4</th>\n",
       "      <td>2018_05</td>\n",
       "      <td>53.50</td>\n",
       "      <td>5</td>\n",
       "      <td>Office</td>\n",
       "      <td>Safe</td>\n",
       "    </tr>\n",
       "  </tbody>\n",
       "</table>\n",
       "</div>"
      ],
      "text/plain": [
       "  HeatMiser_ID  Distance_Feature  Speeding_Feature Location Type  OSHA\n",
       "0      2018_01             53.76                 9        Office  Safe\n",
       "1      2018_02             51.86                 4        Office  Safe\n",
       "2      2018_03             51.59                 4        Office  Safe\n",
       "3      2018_04            168.90                 5     Warehouse  Safe\n",
       "4      2018_05             53.50                 5        Office  Safe"
      ]
     },
     "execution_count": 2,
     "metadata": {},
     "output_type": "execute_result"
    }
   ],
   "source": [
    "data = pd.read_csv('HW3_Data.txt', delimiter='\\t')\n",
    "data.head()"
   ]
  },
  {
   "cell_type": "markdown",
   "metadata": {},
   "source": [
    "## Decision Tree"
   ]
  },
  {
   "cell_type": "markdown",
   "metadata": {},
   "source": [
    "- Implement a Decision Tree to predict the OSHA compliance status based on distance, speed and location features\n",
    "- Select an appropriate bin for distance and speed\n",
    "- Run the data at 10-fold cross-validation.\n",
    "- Output the precision, recall and F1 of each individual class and all classes combined. Output these numbers for each fold as well as the average across all 10 folds\n",
    "- Your code should also output a plot of the performance for each fold over the majority class baseline."
   ]
  },
  {
   "cell_type": "code",
   "execution_count": 3,
   "metadata": {},
   "outputs": [],
   "source": [
    "from osha import (\n",
    "    read_data, bin_data, split_fold,\n",
    "    make_decision_tree, test_tree)"
   ]
  },
  {
   "cell_type": "code",
   "execution_count": 4,
   "metadata": {},
   "outputs": [],
   "source": [
    "data = read_data()\n",
    "speed_categories, distance_categories, location_categories = bin_data(data)\n",
    "categories = [0, speed_categories, distance_categories, location_categories]\n",
    "random.shuffle(data)"
   ]
  },
  {
   "cell_type": "code",
   "execution_count": 5,
   "metadata": {},
   "outputs": [
    {
     "name": "stdout",
     "output_type": "stream",
     "text": [
      "3600.0 4000.0\n"
     ]
    }
   ],
   "source": [
    "test_data, learning_data = split_fold(data, 9)"
   ]
  },
  {
   "cell_type": "code",
   "execution_count": 6,
   "metadata": {},
   "outputs": [],
   "source": [
    "root = make_decision_tree(learning_data, categories)"
   ]
  },
  {
   "cell_type": "code",
   "execution_count": 7,
   "metadata": {},
   "outputs": [
    {
     "data": {
      "text/plain": [
       "Node: 2"
      ]
     },
     "execution_count": 7,
     "metadata": {},
     "output_type": "execute_result"
    }
   ],
   "source": [
    "root"
   ]
  },
  {
   "cell_type": "code",
   "execution_count": 10,
   "metadata": {},
   "outputs": [],
   "source": [
    "import networkx as nx"
   ]
  },
  {
   "cell_type": "code",
   "execution_count": 11,
   "metadata": {},
   "outputs": [],
   "source": [
    "G=nx.Graph()"
   ]
  },
  {
   "cell_type": "code",
   "execution_count": 15,
   "metadata": {},
   "outputs": [
    {
     "data": {
      "text/plain": [
       "'<10'"
      ]
     },
     "execution_count": 15,
     "metadata": {},
     "output_type": "execute_result"
    }
   ],
   "source": [
    "root.children[0].value"
   ]
  },
  {
   "cell_type": "code",
   "execution_count": 25,
   "metadata": {},
   "outputs": [],
   "source": [
    "n1 = root.value"
   ]
  },
  {
   "cell_type": "code",
   "execution_count": 27,
   "metadata": {},
   "outputs": [],
   "source": [
    "n2= root.children[0].children[0].value"
   ]
  },
  {
   "cell_type": "code",
   "execution_count": 29,
   "metadata": {},
   "outputs": [],
   "source": [
    "G=nx.Graph()"
   ]
  },
  {
   "cell_type": "code",
   "execution_count": 31,
   "metadata": {},
   "outputs": [],
   "source": [
    "G.add_node(n1)\n",
    "G.add_node(n2)"
   ]
  },
  {
   "cell_type": "code",
   "execution_count": 32,
   "metadata": {},
   "outputs": [],
   "source": [
    "G.add_edge(n1, n2)"
   ]
  },
  {
   "cell_type": "code",
   "execution_count": 35,
   "metadata": {},
   "outputs": [],
   "source": [
    "import matplotlib.pyplot as plt\n",
    "plt.show()"
   ]
  },
  {
   "cell_type": "code",
   "execution_count": 36,
   "metadata": {},
   "outputs": [
    {
     "name": "stderr",
     "output_type": "stream",
     "text": [
      "/Users/dustymichels/miniconda3/lib/python3.6/site-packages/networkx/drawing/nx_pylab.py:126: MatplotlibDeprecationWarning: pyplot.hold is deprecated.\n",
      "    Future behavior will be consistent with the long-time default:\n",
      "    plot commands add elements without first clearing the\n",
      "    Axes and/or Figure.\n",
      "  b = plt.ishold()\n",
      "/Users/dustymichels/miniconda3/lib/python3.6/site-packages/networkx/drawing/nx_pylab.py:138: MatplotlibDeprecationWarning: pyplot.hold is deprecated.\n",
      "    Future behavior will be consistent with the long-time default:\n",
      "    plot commands add elements without first clearing the\n",
      "    Axes and/or Figure.\n",
      "  plt.hold(b)\n",
      "/Users/dustymichels/miniconda3/lib/python3.6/site-packages/matplotlib/__init__.py:917: UserWarning: axes.hold is deprecated. Please remove it from your matplotlibrc and/or style files.\n",
      "  warnings.warn(self.msg_depr_set % key)\n",
      "/Users/dustymichels/miniconda3/lib/python3.6/site-packages/matplotlib/rcsetup.py:152: UserWarning: axes.hold is deprecated, will be removed in 3.0\n",
      "  warnings.warn(\"axes.hold is deprecated, will be removed in 3.0\")\n"
     ]
    },
    {
     "data": {
      "image/png": "[encoded data removed]",
      "text/plain": [
       "<matplotlib.figure.Figure at 0x114d61208>"
      ]
     },
     "metadata": {},
     "output_type": "display_data"
    }
   ],
   "source": [
    "nx.draw(G)"
   ]
  },
  {
   "cell_type": "code",
   "execution_count": null,
   "metadata": {},
   "outputs": [],
   "source": []
  },
  {
   "cell_type": "code",
   "execution_count": 108,
   "metadata": {},
   "outputs": [],
   "source": [
    "G=nx.Graph()"
   ]
  },
  {
   "cell_type": "code",
   "execution_count": 109,
   "metadata": {},
   "outputs": [],
   "source": [
    "G.add_node(root.value)"
   ]
  },
  {
   "cell_type": "code",
   "execution_count": 110,
   "metadata": {},
   "outputs": [],
   "source": [
    " H=nx.path_graph(10)"
   ]
  },
  {
   "cell_type": "code",
   "execution_count": 111,
   "metadata": {},
   "outputs": [],
   "source": [
    "import matplotlib.pyplot as plt"
   ]
  },
  {
   "cell_type": "code",
   "execution_count": 114,
   "metadata": {},
   "outputs": [
    {
     "name": "stderr",
     "output_type": "stream",
     "text": [
      "/Users/dustymichels/miniconda3/lib/python3.6/site-packages/networkx/drawing/nx_pylab.py:126: MatplotlibDeprecationWarning: pyplot.hold is deprecated.\n",
      "    Future behavior will be consistent with the long-time default:\n",
      "    plot commands add elements without first clearing the\n",
      "    Axes and/or Figure.\n",
      "  b = plt.ishold()\n",
      "/Users/dustymichels/miniconda3/lib/python3.6/site-packages/networkx/drawing/nx_pylab.py:138: MatplotlibDeprecationWarning: pyplot.hold is deprecated.\n",
      "    Future behavior will be consistent with the long-time default:\n",
      "    plot commands add elements without first clearing the\n",
      "    Axes and/or Figure.\n",
      "  plt.hold(b)\n",
      "/Users/dustymichels/miniconda3/lib/python3.6/site-packages/matplotlib/__init__.py:917: UserWarning: axes.hold is deprecated. Please remove it from your matplotlibrc and/or style files.\n",
      "  warnings.warn(self.msg_depr_set % key)\n",
      "/Users/dustymichels/miniconda3/lib/python3.6/site-packages/matplotlib/rcsetup.py:152: UserWarning: axes.hold is deprecated, will be removed in 3.0\n",
      "  warnings.warn(\"axes.hold is deprecated, will be removed in 3.0\")\n"
     ]
    },
    {
     "data": {
      "image/png": "[encoded data removed]",
      "text/plain": [
       "<matplotlib.figure.Figure at 0x115db7b70>"
      ]
     },
     "metadata": {},
     "output_type": "display_data"
    }
   ],
   "source": [
    "nx.draw(H)"
   ]
  },
  {
   "cell_type": "code",
   "execution_count": null,
   "metadata": {},
   "outputs": [],
   "source": []
  },
  {
   "cell_type": "code",
   "execution_count": 104,
   "metadata": {},
   "outputs": [],
   "source": [
    "def display_node(n):\n",
    "    print(\"\\t\\t\\t <{}>\".format(n.value))\n",
    "    for c in n.children:\n",
    "        print(c.value, end='')\n",
    "        print(\"|\", end='\\t')\n",
    "    print()\n",
    "    [display_node(c) for c in n.children]"
   ]
  },
  {
   "cell_type": "code",
   "execution_count": 105,
   "metadata": {},
   "outputs": [
    {
     "name": "stdout",
     "output_type": "stream",
     "text": [
      "\t\t\t <2>\n",
      "<10|\t<20|\t<30|\t<40|\t<50|\t<60|\t<70|\t>70|\t\n",
      "\t\t\t <<10>\n",
      "3|\t\n",
      "\t\t\t <3>\n",
      "Office|\tWarehouse|\t\n",
      "\t\t\t <Office>\n",
      "1|\t\n",
      "\t\t\t <1>\n",
      "Short|\tLong|\t\n",
      "\t\t\t <Short>\n",
      "Safe|\t\n",
      "\t\t\t <Safe>\n",
      "\n",
      "\t\t\t <Long>\n",
      "Safe|\t\n",
      "\t\t\t <Safe>\n",
      "\n",
      "\t\t\t <Warehouse>\n",
      "1|\t\n",
      "\t\t\t <1>\n",
      "Short|\tLong|\t\n",
      "\t\t\t <Short>\n",
      "Safe|\t\n",
      "\t\t\t <Safe>\n",
      "\n",
      "\t\t\t <Long>\n",
      "Safe|\t\n",
      "\t\t\t <Safe>\n",
      "\n",
      "\t\t\t <<20>\n",
      "1|\t\n",
      "\t\t\t <1>\n",
      "Short|\tLong|\t\n",
      "\t\t\t <Short>\n",
      "3|\t\n",
      "\t\t\t <3>\n",
      "Office|\tWarehouse|\t\n",
      "\t\t\t <Office>\n",
      "Safe|\t\n",
      "\t\t\t <Safe>\n",
      "\n",
      "\t\t\t <Warehouse>\n",
      "Safe|\t\n",
      "\t\t\t <Safe>\n",
      "\n",
      "\t\t\t <Long>\n",
      "3|\t\n",
      "\t\t\t <3>\n",
      "Office|\tWarehouse|\t\n",
      "\t\t\t <Office>\n",
      "Safe|\t\n",
      "\t\t\t <Safe>\n",
      "\n",
      "\t\t\t <Warehouse>\n",
      "Safe|\t\n",
      "\t\t\t <Safe>\n",
      "\n",
      "\t\t\t <<30>\n",
      "1|\t\n",
      "\t\t\t <1>\n",
      "Short|\tLong|\t\n",
      "\t\t\t <Short>\n",
      "3|\t\n",
      "\t\t\t <3>\n",
      "Office|\tWarehouse|\t\n",
      "\t\t\t <Office>\n",
      "Safe|\t\n",
      "\t\t\t <Safe>\n",
      "\n",
      "\t\t\t <Warehouse>\n",
      "Safe|\t\n",
      "\t\t\t <Safe>\n",
      "\n",
      "\t\t\t <Long>\n",
      "3|\t\n",
      "\t\t\t <3>\n",
      "Office|\tWarehouse|\t\n",
      "\t\t\t <Office>\n",
      "Safe|\t\n",
      "\t\t\t <Safe>\n",
      "\n",
      "\t\t\t <Warehouse>\n",
      "Safe|\t\n",
      "\t\t\t <Safe>\n",
      "\n",
      "\t\t\t <<40>\n",
      "1|\t\n",
      "\t\t\t <1>\n",
      "Short|\tLong|\t\n",
      "\t\t\t <Short>\n",
      "3|\t\n",
      "\t\t\t <3>\n",
      "Office|\tWarehouse|\t\n",
      "\t\t\t <Office>\n",
      "Safe|\t\n",
      "\t\t\t <Safe>\n",
      "\n",
      "\t\t\t <Warehouse>\n",
      "Safe|\t\n",
      "\t\t\t <Safe>\n",
      "\n",
      "\t\t\t <Long>\n",
      "3|\t\n",
      "\t\t\t <3>\n",
      "Office|\tWarehouse|\t\n",
      "\t\t\t <Office>\n",
      "Safe|\t\n",
      "\t\t\t <Safe>\n",
      "\n",
      "\t\t\t <Warehouse>\n",
      "Safe|\t\n",
      "\t\t\t <Safe>\n",
      "\n",
      "\t\t\t <<50>\n",
      "1|\t\n",
      "\t\t\t <1>\n",
      "Short|\tLong|\t\n",
      "\t\t\t <Short>\n",
      "3|\t\n",
      "\t\t\t <3>\n",
      "Office|\tWarehouse|\t\n",
      "\t\t\t <Office>\n",
      "Safe|\t\n",
      "\t\t\t <Safe>\n",
      "\n",
      "\t\t\t <Warehouse>\n",
      "Safe|\t\n",
      "\t\t\t <Safe>\n",
      "\n",
      "\t\t\t <Long>\n",
      "3|\t\n",
      "\t\t\t <3>\n",
      "Office|\tWarehouse|\t\n",
      "\t\t\t <Office>\n",
      "Safe|\t\n",
      "\t\t\t <Safe>\n",
      "\n",
      "\t\t\t <Warehouse>\n",
      "Safe|\t\n",
      "\t\t\t <Safe>\n",
      "\n",
      "\t\t\t <<60>\n",
      "1|\t\n",
      "\t\t\t <1>\n",
      "Short|\tLong|\t\n",
      "\t\t\t <Short>\n",
      "3|\t\n",
      "\t\t\t <3>\n",
      "Office|\tWarehouse|\t\n",
      "\t\t\t <Office>\n",
      "Safe|\t\n",
      "\t\t\t <Safe>\n",
      "\n",
      "\t\t\t <Warehouse>\n",
      "Safe|\t\n",
      "\t\t\t <Safe>\n",
      "\n",
      "\t\t\t <Long>\n",
      "3|\t\n",
      "\t\t\t <3>\n",
      "Office|\tWarehouse|\t\n",
      "\t\t\t <Office>\n",
      "Safe|\t\n",
      "\t\t\t <Safe>\n",
      "\n",
      "\t\t\t <Warehouse>\n",
      "Safe|\t\n",
      "\t\t\t <Safe>\n",
      "\n",
      "\t\t\t <<70>\n",
      "NonCompliant|\t\n",
      "\t\t\t <NonCompliant>\n",
      "\n",
      "\t\t\t <>70>\n",
      "1|\t\n",
      "\t\t\t <1>\n",
      "Short|\tLong|\t\n",
      "\t\t\t <Short>\n",
      "3|\t\n",
      "\t\t\t <3>\n",
      "Office|\tWarehouse|\t\n",
      "\t\t\t <Office>\n",
      "Safe|\t\n",
      "\t\t\t <Safe>\n",
      "\n",
      "\t\t\t <Warehouse>\n",
      "Safe|\t\n",
      "\t\t\t <Safe>\n",
      "\n",
      "\t\t\t <Long>\n",
      "3|\t\n",
      "\t\t\t <3>\n",
      "Office|\tWarehouse|\t\n",
      "\t\t\t <Office>\n",
      "Safe|\t\n",
      "\t\t\t <Safe>\n",
      "\n",
      "\t\t\t <Warehouse>\n",
      "Safe|\t\n",
      "\t\t\t <Safe>\n",
      "\n"
     ]
    }
   ],
   "source": [
    "display_node(root)"
   ]
  },
  {
   "cell_type": "code",
   "execution_count": 90,
   "metadata": {},
   "outputs": [
    {
     "data": {
      "text/plain": [
       "Node: <10"
      ]
     },
     "execution_count": 90,
     "metadata": {},
     "output_type": "execute_result"
    }
   ],
   "source": [
    "root.children[0]"
   ]
  },
  {
   "cell_type": "code",
   "execution_count": 91,
   "metadata": {},
   "outputs": [
    {
     "name": "stdout",
     "output_type": "stream",
     "text": [
      "\t\t\t <<10>\n",
      "3|\t"
     ]
    }
   ],
   "source": [
    "display_node(root.children[0])"
   ]
  },
  {
   "cell_type": "code",
   "execution_count": 12,
   "metadata": {},
   "outputs": [
    {
     "data": {
      "text/plain": [
       "['<10', '<20', '<30', '<40', '<50', '<60', '<70', '>70']"
      ]
     },
     "execution_count": 12,
     "metadata": {},
     "output_type": "execute_result"
    }
   ],
   "source": [
    "categories[2]"
   ]
  },
  {
   "cell_type": "code",
   "execution_count": 8,
   "metadata": {},
   "outputs": [
    {
     "data": {
      "text/plain": [
       "2"
      ]
     },
     "execution_count": 8,
     "metadata": {},
     "output_type": "execute_result"
    }
   ],
   "source": [
    "root.value"
   ]
  },
  {
   "cell_type": "code",
   "execution_count": 9,
   "metadata": {},
   "outputs": [
    {
     "data": {
      "text/plain": [
       "[<10, <20, <30, <40, <50, <60, <70, >70]"
      ]
     },
     "execution_count": 9,
     "metadata": {},
     "output_type": "execute_result"
    }
   ],
   "source": [
    "root.children"
   ]
  },
  {
   "cell_type": "code",
   "execution_count": null,
   "metadata": {},
   "outputs": [],
   "source": []
  },
  {
   "cell_type": "code",
   "execution_count": null,
   "metadata": {},
   "outputs": [],
   "source": []
  },
  {
   "cell_type": "code",
   "execution_count": 37,
   "metadata": {},
   "outputs": [],
   "source": [
    "from dec_tree import *"
   ]
  },
  {
   "cell_type": "code",
   "execution_count": 40,
   "metadata": {},
   "outputs": [
    {
     "data": {
      "text/plain": [
       "0.6910143378800977"
      ]
     },
     "execution_count": 40,
     "metadata": {},
     "output_type": "execute_result"
    }
   ],
   "source": [
    "e = calculate_entropy(learning_data)\n",
    "e"
   ]
  },
  {
   "cell_type": "code",
   "execution_count": 48,
   "metadata": {},
   "outputs": [
    {
     "data": {
      "text/plain": [
       "2"
      ]
     },
     "execution_count": 48,
     "metadata": {},
     "output_type": "execute_result"
    }
   ],
   "source": [
    "next_col = find_next_column(learning_data, e)\n",
    "next_col"
   ]
  },
  {
   "cell_type": "code",
   "execution_count": 49,
   "metadata": {},
   "outputs": [],
   "source": [
    "root = Node(next_col)"
   ]
  },
  {
   "cell_type": "code",
   "execution_count": 51,
   "metadata": {},
   "outputs": [],
   "source": []
  },
  {
   "cell_type": "code",
   "execution_count": null,
   "metadata": {},
   "outputs": [],
   "source": []
  },
  {
   "cell_type": "code",
   "execution_count": 46,
   "metadata": {},
   "outputs": [
    {
     "data": {
      "text/plain": [
       "<dec_tree.Node at 0x10c23bb38>"
      ]
     },
     "execution_count": 46,
     "metadata": {},
     "output_type": "execute_result"
    }
   ],
   "source": [
    "root"
   ]
  },
  {
   "cell_type": "code",
   "execution_count": 47,
   "metadata": {},
   "outputs": [
    {
     "data": {
      "text/plain": [
       "[0,\n",
       " ['Short', 'Long'],\n",
       " ['<10', '<20', '<30', '<40', '<50', '<60', '<70', '>70'],\n",
       " ['Office', 'Warehouse']]"
      ]
     },
     "execution_count": 47,
     "metadata": {},
     "output_type": "execute_result"
    }
   ],
   "source": [
    "categories"
   ]
  },
  {
   "cell_type": "code",
   "execution_count": null,
   "metadata": {},
   "outputs": [],
   "source": []
  },
  {
   "cell_type": "code",
   "execution_count": 36,
   "metadata": {},
   "outputs": [
    {
     "data": {
      "text/plain": [
       "<dec_tree.Node at 0x10c2ba828>"
      ]
     },
     "execution_count": 36,
     "metadata": {},
     "output_type": "execute_result"
    }
   ],
   "source": [
    "root"
   ]
  },
  {
   "cell_type": "code",
   "execution_count": null,
   "metadata": {},
   "outputs": [],
   "source": []
  },
  {
   "cell_type": "code",
   "execution_count": null,
   "metadata": {},
   "outputs": [],
   "source": []
  },
  {
   "cell_type": "code",
   "execution_count": null,
   "metadata": {},
   "outputs": [],
   "source": []
  },
  {
   "cell_type": "code",
   "execution_count": null,
   "metadata": {},
   "outputs": [],
   "source": [
    "make_decision_tree(learning_data)"
   ]
  },
  {
   "cell_type": "code",
   "execution_count": null,
   "metadata": {},
   "outputs": [],
   "source": []
  },
  {
   "cell_type": "code",
   "execution_count": null,
   "metadata": {},
   "outputs": [],
   "source": []
  },
  {
   "cell_type": "code",
   "execution_count": null,
   "metadata": {},
   "outputs": [],
   "source": []
  },
  {
   "cell_type": "code",
   "execution_count": null,
   "metadata": {},
   "outputs": [],
   "source": []
  },
  {
   "cell_type": "markdown",
   "metadata": {},
   "source": [
    "## Data Validadation"
   ]
  },
  {
   "cell_type": "code",
   "execution_count": 5,
   "metadata": {},
   "outputs": [],
   "source": [
    "import random"
   ]
  },
  {
   "cell_type": "code",
   "execution_count": null,
   "metadata": {},
   "outputs": [],
   "source": [
    "random.randint()"
   ]
  }
 ],
 "metadata": {
  "kernelspec": {
   "display_name": "Python 3",
   "language": "python",
   "name": "python3"
  },
  "language_info": {
   "codemirror_mode": {
    "name": "ipython",
    "version": 3
   },
   "file_extension": ".py",
   "mimetype": "text/x-python",
   "name": "python",
   "nbconvert_exporter": "python",
   "pygments_lexer": "ipython3",
   "version": "3.6.4"
  }
 },
 "nbformat": 4,
 "nbformat_minor": 2
}
